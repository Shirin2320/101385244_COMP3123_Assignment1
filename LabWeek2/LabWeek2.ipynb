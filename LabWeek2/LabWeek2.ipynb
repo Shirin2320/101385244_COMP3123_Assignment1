{
  "cells": [
    {
      "cell_type": "markdown",
      "metadata": {
        "id": "0mAxgWloI7CK"
      },
      "source": [
        "# Logistic Regression as a Single Neuron Model"
      ]
    },
    {
      "cell_type": "markdown",
      "metadata": {
        "id": "16LGF3dq4mYD"
      },
      "source": [
        "## Imports"
      ]
    },
    {
      "cell_type": "code",
      "execution_count": 1,
      "metadata": {
        "id": "_r0MBq9GzGlj"
      },
      "outputs": [],
      "source": [
        "import numpy as np\n",
        "import h5py\n",
        "import requests\n",
        "import os\n",
        "import matplotlib.pyplot as plt\n"
      ]
    },
    {
      "cell_type": "markdown",
      "metadata": {
        "id": "UNOHCcMAWBa4"
      },
      "source": [
        "## Helper Functions (Just run this cell - no need to go through the code in helper functions)"
      ]
    },
    {
      "cell_type": "code",
      "execution_count": 2,
      "metadata": {
        "id": "HAgV4SZdzF0h"
      },
      "outputs": [],
      "source": [
        "def download_file(url, local_filename):\n",
        "    \"\"\"\n",
        "    Downloads a file from a URL and saves it locally.\n",
        "    \"\"\"\n",
        "    if not os.path.exists(local_filename):\n",
        "        print(f\"Downloading {local_filename}...\")\n",
        "        response = requests.get(url)\n",
        "        if response.status_code == 200:\n",
        "            with open(local_filename, 'wb') as f:\n",
        "                f.write(response.content)\n",
        "            print(f\"File downloaded: {local_filename}\")\n",
        "        else:\n",
        "            raise Exception(f\"Failed to download file from {url}. Status code: {response.status_code}\")\n",
        "    else:\n",
        "        print(f\"File already exists: {local_filename}\")\n",
        "\n",
        "def load_dataset():\n",
        "    # URLs of the .h5 files\n",
        "    train_url = 'https://github.com/PyDataGBC/PyML2025/raw/refs/heads/main/LabWeek2/dataset/train_catvnoncat.h5'\n",
        "    test_url = 'https://github.com/PyDataGBC/PyML2025/raw/refs/heads/main/LabWeek2/dataset/test_catvnoncat.h5'\n",
        "\n",
        "    # Local file paths\n",
        "    train_file = 'train_catvnoncat.h5'\n",
        "    test_file = 'test_catvnoncat.h5'\n",
        "\n",
        "    # Download the files if not already present\n",
        "    download_file(train_url, train_file)\n",
        "    download_file(test_url, test_file)\n",
        "\n",
        "    # Open the files using h5py\n",
        "    train_dataset = h5py.File(train_file, \"r\")\n",
        "    train_set_x_orig = np.array(train_dataset[\"train_set_x\"][:])  # Train set features\n",
        "    train_set_y_orig = np.array(train_dataset[\"train_set_y\"][:])  # Train set labels\n",
        "\n",
        "    test_dataset = h5py.File(test_file, \"r\")\n",
        "    test_set_x_orig = np.array(test_dataset[\"test_set_x\"][:])  # Test set features\n",
        "    test_set_y_orig = np.array(test_dataset[\"test_set_y\"][:])  # Test set labels\n",
        "\n",
        "    classes = np.array(test_dataset[\"list_classes\"][:])  # List of classes\n",
        "\n",
        "    # Reshape labels\n",
        "    train_set_y_orig = train_set_y_orig.reshape((1, train_set_y_orig.shape[0]))\n",
        "    test_set_y_orig = test_set_y_orig.reshape((1, test_set_y_orig.shape[0]))\n",
        "\n",
        "    return train_set_x_orig, train_set_y_orig, test_set_x_orig, test_set_y_orig, classes"
      ]
    },
    {
      "cell_type": "code",
      "execution_count": 3,
      "metadata": {
        "colab": {
          "base_uri": "https://localhost:8080/"
        },
        "id": "VDC_aGp_zLzE",
        "outputId": "422fd626-1370-434b-f609-4830fd6a6786"
      },
      "outputs": [
        {
          "output_type": "stream",
          "name": "stdout",
          "text": [
            "Downloading train_catvnoncat.h5...\n",
            "File downloaded: train_catvnoncat.h5\n",
            "Downloading test_catvnoncat.h5...\n",
            "File downloaded: test_catvnoncat.h5\n"
          ]
        }
      ],
      "source": [
        "train_set_x_orig, train_set_y, test_set_x_orig, test_set_y, classes = load_dataset()"
      ]
    },
    {
      "cell_type": "markdown",
      "metadata": {
        "id": "43XfhBql4xHz"
      },
      "source": [
        "## Data Visualization"
      ]
    },
    {
      "cell_type": "code",
      "execution_count": 4,
      "metadata": {
        "colab": {
          "base_uri": "https://localhost:8080/",
          "height": 450
        },
        "id": "3BTUPBQvzPpW",
        "outputId": "87d686f7-204c-4fb9-8cba-3251eca9c59b"
      },
      "outputs": [
        {
          "output_type": "stream",
          "name": "stdout",
          "text": [
            "label:  [1]\n"
          ]
        },
        {
          "output_type": "display_data",
          "data": {
            "text/plain": [
              "<Figure size 640x480 with 1 Axes>"
            ],
            "image/png": "[encoded data removed]"
          },
          "metadata": {}
        }
      ],
      "source": [
        "# Example of a picture\n",
        "index = 25   # select a number between 0 and 208\n",
        "#index = np.random.randint(0, 200)  # you can also generate a random number and see the different imagge each time\n",
        "plt.imshow(train_set_x_orig[index])\n",
        "print(\"label: \", train_set_y[:, index])"
      ]
    },
    {
      "cell_type": "markdown",
      "metadata": {
        "id": "lMMLsPL5jgSF"
      },
      "source": [
        "### **Exercise 1:** Take a look at five different images in train/test set. Try to see both cat and non-cat samples."
      ]
    },
    {
      "cell_type": "code",
      "execution_count": 10,
      "metadata": {
        "id": "hqGL_XaXj2OP",
        "outputId": "41ce422a-ad99-4a80-fdf1-863fb2424d50",
        "colab": {
          "base_uri": "https://localhost:8080/",
          "height": 1000
        }
      },
      "outputs": [
        {
          "output_type": "stream",
          "name": "stdout",
          "text": [
            "Target:  [1]\n",
            "Target:  [1]\n",
            "Target:  [1]\n",
            "Target:  [0]\n",
            "Target:  [1]\n"
          ]
        },
        {
          "output_type": "display_data",
          "data": {
            "text/plain": [
              "<Figure size 640x480 with 1 Axes>"
            ],
            "image/png": "[encoded data removed]"
          },
          "metadata": {}
        },
        {
          "output_type": "display_data",
          "data": {
            "text/plain": [
              "<Figure size 640x480 with 1 Axes>"
            ],
            "image/png": "[encoded data removed]"
          },
          "metadata": {}
        },
        {
          "output_type": "display_data",
          "data": {
            "text/plain": [
              "<Figure size 640x480 with 1 Axes>"
            ],
            "image/png": "[encoded data removed]"
          },
          "metadata": {}
        },
        {
          "output_type": "display_data",
          "data": {
            "text/plain": [
              "<Figure size 640x480 with 1 Axes>"
            ],
            "image/png": "[encoded data removed]"
          },
          "metadata": {}
        },
        {
          "output_type": "display_data",
          "data": {
            "text/plain": [
              "<Figure size 640x480 with 1 Axes>"
            ],
            "image/png": "[encoded data removed]"
          },
          "metadata": {}
        }
      ],
      "source": [
        "for i in range(5):\n",
        "  plt.figure() #intialized an empty image\n",
        "  index = np.random.randint(0, 50)\n",
        "  plt.imshow(test_set_x_orig[index])\n",
        "  print(\"Target: \", test_set_y[:, index])\n"
      ]
    },
    {
      "cell_type": "markdown",
      "metadata": {
        "id": "3gL2KxE7r0h7"
      },
      "source": [
        "### **Exercise 2:** Print `train_set_y` array to see the labels of the data. What percentage of the pictures in `train set` contain cats?"
      ]
    },
    {
      "cell_type": "code",
      "execution_count": 17,
      "metadata": {
        "id": "phnJSNEDsIsc",
        "outputId": "63cb688f-a803-4542-a16a-bc5f740b700c",
        "colab": {
          "base_uri": "https://localhost:8080/"
        }
      },
      "outputs": [
        {
          "output_type": "stream",
          "name": "stdout",
          "text": [
            "[[0 0 1 0 0 0 0 1 0 0 0 1 0 1 1 0 0 0 0 1 0 0 0 0 1 1 0 1 0 1 0 0 0 0 0 0\n",
            "  0 0 1 0 0 1 1 0 0 0 0 1 0 0 1 0 0 0 1 0 1 1 0 1 1 1 0 0 0 0 0 0 1 0 0 1\n",
            "  0 0 0 0 0 0 0 0 0 0 0 1 1 0 0 0 1 0 0 0 1 1 1 0 0 1 0 0 0 0 1 0 1 0 1 1\n",
            "  1 1 1 1 0 0 0 0 0 1 0 0 0 1 0 0 1 0 1 0 1 1 0 0 0 1 1 1 1 1 0 0 0 0 1 0\n",
            "  1 1 1 0 1 1 0 0 0 1 0 0 1 0 0 0 0 0 1 0 1 0 1 0 0 1 1 1 0 0 1 1 0 1 0 1\n",
            "  0 0 0 0 0 1 0 0 1 0 0 0 1 0 0 0 0 1 0 0 1 0 0 0 0 0 0 0 0]]\n",
            "(1, 209)\n",
            "209\n",
            "209\n",
            "34.44976076555024 %\n"
          ]
        }
      ],
      "source": [
        "print(train_set_y[:])\n",
        "print(train_set_y.shape)\n",
        "print(train_set_y.shape[1])\n",
        "print(train_set_y.size) # why is shape [1] = ? shape gives you the dimenions\n",
        "percent_cats = np.sum(train_set_y[:])/train_set_y.size\n",
        "print(percent_cats * 100, \"%\")\n",
        "\n"
      ]
    },
    {
      "cell_type": "markdown",
      "metadata": {
        "id": "ZzIKs9d546Bx"
      },
      "source": [
        "## Data Pre-processing"
      ]
    },
    {
      "cell_type": "markdown",
      "metadata": {
        "id": "pOpUDYyXMXI0"
      },
      "source": [
        "### Brief Theory: Numerical Representation of Images"
      ]
    },
    {
      "cell_type": "markdown",
      "metadata": {
        "id": "1Ybd7jVO7d59"
      },
      "source": [
        "![preprocessing](https://raw.githubusercontent.com/PyDataGBC/PyML2025/refs/heads/main/LabWeek2/assets/imvectorkiank.png)"
      ]
    },
    {
      "cell_type": "markdown",
      "metadata": {
        "id": "ww93xSbYKaOk"
      },
      "source": [
        "### **Example 1:** Numerical Representation of an Image"
      ]
    },
    {
      "cell_type": "markdown",
      "metadata": {
        "id": "9X8lR04-sOcq"
      },
      "source": [
        "![](https://raw.githubusercontent.com/PyDataGBC/PyML2025/refs/heads/main/LabWeek2/assets/imtovec_example.webp)"
      ]
    },
    {
      "cell_type": "markdown",
      "metadata": {
        "id": "SyFpie9wsGyN"
      },
      "source": [
        "#### Step 1: Numerical representation of each channel (`MATRIX` format)"
      ]
    },
    {
      "cell_type": "code",
      "execution_count": 18,
      "metadata": {
        "id": "7E9xtfFssGyN",
        "outputId": "3e43e609-64d9-4aad-84ad-7e1d3a816129",
        "colab": {
          "base_uri": "https://localhost:8080/"
        }
      },
      "outputs": [
        {
          "output_type": "stream",
          "name": "stdout",
          "text": [
            "Red Channel\n",
            "(3, 3)\n",
            "[[255 123 135]\n",
            " [ 44  12  15]\n",
            " [ 56  87  90]]\n",
            "Green Channel\n",
            "(3, 3)\n",
            "[[255 133 175]\n",
            " [ 24 123 169]\n",
            " [ 98  66  77]]\n",
            "Bue Channel\n",
            "(3, 3)\n",
            "[[ 66  54  88]\n",
            " [ 55  98  54]\n",
            " [ 87 142  89]]\n"
          ]
        }
      ],
      "source": [
        "red_channel = np.array([[255, 123, 135], [44, 12, 15], [56, 87, 90]]) # 2d array: Matrix\n",
        "green_channel = np.array([[255, 133, 175], [24, 123, 169], [98, 66, 77]])\n",
        "blue_channel = np.array([[66, 54, 88], [55, 98, 54], [87, 142, 89]])\n",
        "\n",
        "print(\"Red Channel\")\n",
        "print(red_channel.shape)\n",
        "print(red_channel)\n",
        "\n",
        "print(\"Green Channel\")\n",
        "print(green_channel.shape)\n",
        "print(green_channel)\n",
        "\n",
        "print(\"Bue Channel\")\n",
        "print(blue_channel.shape)\n",
        "print(blue_channel)\n",
        "\n",
        "\n",
        "\n"
      ]
    },
    {
      "cell_type": "markdown",
      "metadata": {
        "id": "rSWoA3_WsGyN"
      },
      "source": [
        "#### Step 2: Putting the channels together in the form of a `TENSOR`"
      ]
    },
    {
      "cell_type": "code",
      "execution_count": 19,
      "metadata": {
        "id": "VUsY9TozsGyN",
        "outputId": "a06191fe-eb08-436a-bd81-b7806d8fae48",
        "colab": {
          "base_uri": "https://localhost:8080/"
        }
      },
      "outputs": [
        {
          "output_type": "stream",
          "name": "stdout",
          "text": [
            "channel, height, width\n",
            "(3, 3, 3)\n",
            "[[[255 123 135]\n",
            "  [ 44  12  15]\n",
            "  [ 56  87  90]]\n",
            "\n",
            " [[255 133 175]\n",
            "  [ 24 123 169]\n",
            "  [ 98  66  77]]\n",
            "\n",
            " [[ 66  54  88]\n",
            "  [ 55  98  54]\n",
            "  [ 87 142  89]]]\n"
          ]
        }
      ],
      "source": [
        "print(\"channel, height, width\")\n",
        "airplane_image = np.array([red_channel, green_channel, blue_channel])  # 3d array: Tensor\n",
        "print(airplane_image.shape)\n",
        "print(airplane_image)\n",
        "#Tesnsor: All it is a python multidimentional array of any size."
      ]
    },
    {
      "cell_type": "markdown",
      "metadata": {
        "id": "MUcHDusjsGyN"
      },
      "source": [
        "#### Step 3: Flatten the `tensor` into a `VECTOR`"
      ]
    },
    {
      "cell_type": "code",
      "execution_count": 20,
      "metadata": {
        "colab": {
          "base_uri": "https://localhost:8080/"
        },
        "id": "a99vH96il50J",
        "outputId": "28be07a8-3704-4426-e81f-0e64e3c2a04a"
      },
      "outputs": [
        {
          "output_type": "stream",
          "name": "stdout",
          "text": [
            "(27,)\n",
            "[255 123 135  44  12  15  56  87  90 255 133 175  24 123 169  98  66  77\n",
            "  66  54  88  55  98  54  87 142  89]\n"
          ]
        }
      ],
      "source": [
        "airplane_flatten = airplane_image.flatten()   # 1d array: Vector\n",
        "print(airplane_flatten.shape)\n",
        "print(airplane_flatten)"
      ]
    },
    {
      "cell_type": "markdown",
      "metadata": {
        "id": "PNH054_3icPa"
      },
      "source": [
        "### **Exercise 3:** Take one sample form train set again and check the shape of it. Try to interpret the numbers in the `shape`.\n",
        "\n",
        "**Notes:**\n",
        "- The images are 64x64 `pixels`.\n",
        "- There are 3 RGB `channels`."
      ]
    },
    {
      "cell_type": "code",
      "execution_count": 23,
      "metadata": {
        "id": "NXpWZWGti3FC",
        "outputId": "ca26b089-717d-4da9-a567-5a265f20e8a1",
        "colab": {
          "base_uri": "https://localhost:8080/"
        }
      },
      "outputs": [
        {
          "output_type": "stream",
          "name": "stdout",
          "text": [
            "(64, 64, 3)\n",
            "3\n",
            "(12288,)\n"
          ]
        }
      ],
      "source": [
        "sample_index = 25 # Random Cat\n",
        "sample_image = train_set_x_orig[sample_index]\n",
        "\n",
        "#Check the num dimensions of sample image before flattening\n",
        "print(sample_image.shape)\n",
        "print(sample_image.ndim)\n",
        "# print(sample_image)\n",
        "\n",
        "#Flatten and recheck the num dimensions\n",
        "flattened_image = sample_image.flatten()\n",
        "print(flattened_image.shape)\n",
        "# print(flattened_sample_image.Shape)\n",
        "\n",
        "\n",
        "\n"
      ]
    },
    {
      "cell_type": "markdown",
      "metadata": {
        "id": "bZ8ie-2FsGyO"
      },
      "source": [
        "### **Exercise 4:** Fallaten the this sample image? what is the size of the flattened image? why this number?"
      ]
    },
    {
      "cell_type": "markdown",
      "metadata": {
        "id": "gJNlOz_Dnvi3"
      },
      "source": [
        "### **Data Preprocessing:** Flattening the entrie Train and Test Datasets\n",
        "\n",
        "**Note:** We're going to talk about the details of the following code in next sessions. For now just pay attentin to the output shapes of data."
      ]
    },
    {
      "cell_type": "code",
      "execution_count": 29,
      "metadata": {
        "colab": {
          "base_uri": "https://localhost:8080/"
        },
        "id": "Vlg5rBn4nOgf",
        "outputId": "e6729da5-ce6b-4b30-f1bd-ef50315891eb"
      },
      "outputs": [
        {
          "output_type": "stream",
          "name": "stdout",
          "text": [
            "Train set shape:  (209, 12288)\n",
            "Test set shape:  (50, 12288)\n",
            "Train label shape:  (209,)\n",
            "Test label shape:  (50,)\n"
          ]
        }
      ],
      "source": [
        "X_train = train_set_x_orig.reshape(train_set_x_orig.shape[0], -1)\n",
        "print(\"Train set shape: \", X_train.shape)\n",
        "\n",
        "X_test = test_set_x_orig.reshape(test_set_x_orig.shape[0], -1)\n",
        "print(\"Test set shape: \", X_test.shape)\n",
        "\n",
        "y_train = train_set_y[0]\n",
        "print(\"Train label shape: \", y_train.shape)\n",
        "\n",
        "y_test = test_set_y[0]\n",
        "print(\"Test label shape: \", y_test.shape)\n",
        "\n"
      ]
    },
    {
      "cell_type": "markdown",
      "metadata": {
        "id": "rYjieuvgsGyO"
      },
      "source": [
        "**Important Notes:**\n",
        "- We have 209 samples in the train set, and\n",
        "- 50 samples in the test set.\n",
        "- each sample has 64x64x3=12288 `features`. So each pixel can be considered as one feature.\n",
        "- remember that we had `4` features in `IRIS` dataset and now we have more than `10,000` features."
      ]
    },
    {
      "cell_type": "markdown",
      "metadata": {
        "id": "8hTAntEGmGH8"
      },
      "source": [
        "## Implementing Logistic Regression\n",
        "\n",
        "This is what happens under the hood when you use the `LogisticRegression` classifier in scikit-learn."
      ]
    },
    {
      "cell_type": "markdown",
      "metadata": {
        "id": "iqZ30WFX9F6e"
      },
      "source": [
        "![](https://raw.githubusercontent.com/PyDataGBC/PyML2025/refs/heads/main/LabWeek2/assets/LogReg_kiank.png)"
      ]
    },
    {
      "cell_type": "markdown",
      "metadata": {
        "id": "_zxI7KvSsGyO"
      },
      "source": [
        "### **Example 2:** What is the label in the following hypothetical input?\n",
        "\n",
        "![](https://raw.githubusercontent.com/PyDataGBC/PyML2025/refs/heads/main/LabWeek2/assets/toyexample.png)"
      ]
    },
    {
      "cell_type": "markdown",
      "metadata": {
        "id": "Gn0UooRwpzRk"
      },
      "source": [
        "### **Exercise 6:** Train a `LogisticRegression` classifier to run a binary classification on the flattened cat pictures."
      ]
    },
    {
      "cell_type": "code",
      "execution_count": 26,
      "metadata": {
        "id": "Lcc0357e9IOH"
      },
      "outputs": [],
      "source": [
        "from sklearn.linear_model import LogisticRegression\n",
        "from sklearn.metrics import accuracy_score"
      ]
    },
    {
      "cell_type": "code",
      "execution_count": 30,
      "metadata": {
        "id": "mF7xJBuzq6P2",
        "outputId": "3e5c0576-d09b-4353-9b58-f99a19aabc57",
        "colab": {
          "base_uri": "https://localhost:8080/",
          "height": 80
        }
      },
      "outputs": [
        {
          "output_type": "execute_result",
          "data": {
            "text/plain": [
              "LogisticRegression(max_iter=1000)"
            ],
            "text/html": [
              "<style>#sk-container-id-1 {\n",
              "  /* Definition of color scheme common for light and dark mode */\n",
              "  --sklearn-color-text: #000;\n",
              "  --sklearn-color-text-muted: #666;\n",
              "  --sklearn-color-line: gray;\n",
              "  /* Definition of color scheme for unfitted estimators */\n",
              "  --sklearn-color-unfitted-level-0: #fff5e6;\n",
              "  --sklearn-color-unfitted-level-1: #f6e4d2;\n",
              "  --sklearn-color-unfitted-level-2: #ffe0b3;\n",
              "  --sklearn-color-unfitted-level-3: chocolate;\n",
              "  /* Definition of color scheme for fitted estimators */\n",
              "  --sklearn-color-fitted-level-0: #f0f8ff;\n",
              "  --sklearn-color-fitted-level-1: #d4ebff;\n",
              "  --sklearn-color-fitted-level-2: #b3dbfd;\n",
              "  --sklearn-color-fitted-level-3: cornflowerblue;\n",
              "\n",
              "  /* Specific color for light theme */\n",
              "  --sklearn-color-text-on-default-background: var(--sg-text-color, var(--theme-code-foreground, var(--jp-content-font-color1, black)));\n",
              "  --sklearn-color-background: var(--sg-background-color, var(--theme-background, var(--jp-layout-color0, white)));\n",
              "  --sklearn-color-border-box: var(--sg-text-color, var(--theme-code-foreground, var(--jp-content-font-color1, black)));\n",
              "  --sklearn-color-icon: #696969;\n",
              "\n",
              "  @media (prefers-color-scheme: dark) {\n",
              "    /* Redefinition of color scheme for dark theme */\n",
              "    --sklearn-color-text-on-default-background: var(--sg-text-color, var(--theme-code-foreground, var(--jp-content-font-color1, white)));\n",
              "    --sklearn-color-background: var(--sg-background-color, var(--theme-background, var(--jp-layout-color0, #111)));\n",
              "    --sklearn-color-border-box: var(--sg-text-color, var(--theme-code-foreground, var(--jp-content-font-color1, white)));\n",
              "    --sklearn-color-icon: #878787;\n",
              "  }\n",
              "}\n",
              "\n",
              "#sk-container-id-1 {\n",
              "  color: var(--sklearn-color-text);\n",
              "}\n",
              "\n",
              "#sk-container-id-1 pre {\n",
              "  padding: 0;\n",
              "}\n",
              "\n",
              "#sk-container-id-1 input.sk-hidden--visually {\n",
              "  border: 0;\n",
              "  clip: rect(1px 1px 1px 1px);\n",
              "  clip: rect(1px, 1px, 1px, 1px);\n",
              "  height: 1px;\n",
              "  margin: -1px;\n",
              "  overflow: hidden;\n",
              "  padding: 0;\n",
              "  position: absolute;\n",
              "  width: 1px;\n",
              "}\n",
              "\n",
              "#sk-container-id-1 div.sk-dashed-wrapped {\n",
              "  border: 1px dashed var(--sklearn-color-line);\n",
              "  margin: 0 0.4em 0.5em 0.4em;\n",
              "  box-sizing: border-box;\n",
              "  padding-bottom: 0.4em;\n",
              "  background-color: var(--sklearn-color-background);\n",
              "}\n",
              "\n",
              "#sk-container-id-1 div.sk-container {\n",
              "  /* jupyter's `normalize.less` sets `[hidden] { display: none; }`\n",
              "     but bootstrap.min.css set `[hidden] { display: none !important; }`\n",
              "     so we also need the `!important` here to be able to override the\n",
              "     default hidden behavior on the sphinx rendered scikit-learn.org.\n",
              "     See: https://github.com/scikit-learn/scikit-learn/issues/21755 */\n",
              "  display: inline-block !important;\n",
              "  position: relative;\n",
              "}\n",
              "\n",
              "#sk-container-id-1 div.sk-text-repr-fallback {\n",
              "  display: none;\n",
              "}\n",
              "\n",
              "div.sk-parallel-item,\n",
              "div.sk-serial,\n",
              "div.sk-item {\n",
              "  /* draw centered vertical line to link estimators */\n",
              "  background-image: linear-gradient(var(--sklearn-color-text-on-default-background), var(--sklearn-color-text-on-default-background));\n",
              "  background-size: 2px 100%;\n",
              "  background-repeat: no-repeat;\n",
              "  background-position: center center;\n",
              "}\n",
              "\n",
              "/* Parallel-specific style estimator block */\n",
              "\n",
              "#sk-container-id-1 div.sk-parallel-item::after {\n",
              "  content: \"\";\n",
              "  width: 100%;\n",
              "  border-bottom: 2px solid var(--sklearn-color-text-on-default-background);\n",
              "  flex-grow: 1;\n",
              "}\n",
              "\n",
              "#sk-container-id-1 div.sk-parallel {\n",
              "  display: flex;\n",
              "  align-items: stretch;\n",
              "  justify-content: center;\n",
              "  background-color: var(--sklearn-color-background);\n",
              "  position: relative;\n",
              "}\n",
              "\n",
              "#sk-container-id-1 div.sk-parallel-item {\n",
              "  display: flex;\n",
              "  flex-direction: column;\n",
              "}\n",
              "\n",
              "#sk-container-id-1 div.sk-parallel-item:first-child::after {\n",
              "  align-self: flex-end;\n",
              "  width: 50%;\n",
              "}\n",
              "\n",
              "#sk-container-id-1 div.sk-parallel-item:last-child::after {\n",
              "  align-self: flex-start;\n",
              "  width: 50%;\n",
              "}\n",
              "\n",
              "#sk-container-id-1 div.sk-parallel-item:only-child::after {\n",
              "  width: 0;\n",
              "}\n",
              "\n",
              "/* Serial-specific style estimator block */\n",
              "\n",
              "#sk-container-id-1 div.sk-serial {\n",
              "  display: flex;\n",
              "  flex-direction: column;\n",
              "  align-items: center;\n",
              "  background-color: var(--sklearn-color-background);\n",
              "  padding-right: 1em;\n",
              "  padding-left: 1em;\n",
              "}\n",
              "\n",
              "\n",
              "/* Toggleable style: style used for estimator/Pipeline/ColumnTransformer box that is\n",
              "clickable and can be expanded/collapsed.\n",
              "- Pipeline and ColumnTransformer use this feature and define the default style\n",
              "- Estimators will overwrite some part of the style using the `sk-estimator` class\n",
              "*/\n",
              "\n",
              "/* Pipeline and ColumnTransformer style (default) */\n",
              "\n",
              "#sk-container-id-1 div.sk-toggleable {\n",
              "  /* Default theme specific background. It is overwritten whether we have a\n",
              "  specific estimator or a Pipeline/ColumnTransformer */\n",
              "  background-color: var(--sklearn-color-background);\n",
              "}\n",
              "\n",
              "/* Toggleable label */\n",
              "#sk-container-id-1 label.sk-toggleable__label {\n",
              "  cursor: pointer;\n",
              "  display: flex;\n",
              "  width: 100%;\n",
              "  margin-bottom: 0;\n",
              "  padding: 0.5em;\n",
              "  box-sizing: border-box;\n",
              "  text-align: center;\n",
              "  align-items: start;\n",
              "  justify-content: space-between;\n",
              "  gap: 0.5em;\n",
              "}\n",
              "\n",
              "#sk-container-id-1 label.sk-toggleable__label .caption {\n",
              "  font-size: 0.6rem;\n",
              "  font-weight: lighter;\n",
              "  color: var(--sklearn-color-text-muted);\n",
              "}\n",
              "\n",
              "#sk-container-id-1 label.sk-toggleable__label-arrow:before {\n",
              "  /* Arrow on the left of the label */\n",
              "  content: \"▸\";\n",
              "  float: left;\n",
              "  margin-right: 0.25em;\n",
              "  color: var(--sklearn-color-icon);\n",
              "}\n",
              "\n",
              "#sk-container-id-1 label.sk-toggleable__label-arrow:hover:before {\n",
              "  color: var(--sklearn-color-text);\n",
              "}\n",
              "\n",
              "/* Toggleable content - dropdown */\n",
              "\n",
              "#sk-container-id-1 div.sk-toggleable__content {\n",
              "  max-height: 0;\n",
              "  max-width: 0;\n",
              "  overflow: hidden;\n",
              "  text-align: left;\n",
              "  /* unfitted */\n",
              "  background-color: var(--sklearn-color-unfitted-level-0);\n",
              "}\n",
              "\n",
              "#sk-container-id-1 div.sk-toggleable__content.fitted {\n",
              "  /* fitted */\n",
              "  background-color: var(--sklearn-color-fitted-level-0);\n",
              "}\n",
              "\n",
              "#sk-container-id-1 div.sk-toggleable__content pre {\n",
              "  margin: 0.2em;\n",
              "  border-radius: 0.25em;\n",
              "  color: var(--sklearn-color-text);\n",
              "  /* unfitted */\n",
              "  background-color: var(--sklearn-color-unfitted-level-0);\n",
              "}\n",
              "\n",
              "#sk-container-id-1 div.sk-toggleable__content.fitted pre {\n",
              "  /* unfitted */\n",
              "  background-color: var(--sklearn-color-fitted-level-0);\n",
              "}\n",
              "\n",
              "#sk-container-id-1 input.sk-toggleable__control:checked~div.sk-toggleable__content {\n",
              "  /* Expand drop-down */\n",
              "  max-height: 200px;\n",
              "  max-width: 100%;\n",
              "  overflow: auto;\n",
              "}\n",
              "\n",
              "#sk-container-id-1 input.sk-toggleable__control:checked~label.sk-toggleable__label-arrow:before {\n",
              "  content: \"▾\";\n",
              "}\n",
              "\n",
              "/* Pipeline/ColumnTransformer-specific style */\n",
              "\n",
              "#sk-container-id-1 div.sk-label input.sk-toggleable__control:checked~label.sk-toggleable__label {\n",
              "  color: var(--sklearn-color-text);\n",
              "  background-color: var(--sklearn-color-unfitted-level-2);\n",
              "}\n",
              "\n",
              "#sk-container-id-1 div.sk-label.fitted input.sk-toggleable__control:checked~label.sk-toggleable__label {\n",
              "  background-color: var(--sklearn-color-fitted-level-2);\n",
              "}\n",
              "\n",
              "/* Estimator-specific style */\n",
              "\n",
              "/* Colorize estimator box */\n",
              "#sk-container-id-1 div.sk-estimator input.sk-toggleable__control:checked~label.sk-toggleable__label {\n",
              "  /* unfitted */\n",
              "  background-color: var(--sklearn-color-unfitted-level-2);\n",
              "}\n",
              "\n",
              "#sk-container-id-1 div.sk-estimator.fitted input.sk-toggleable__control:checked~label.sk-toggleable__label {\n",
              "  /* fitted */\n",
              "  background-color: var(--sklearn-color-fitted-level-2);\n",
              "}\n",
              "\n",
              "#sk-container-id-1 div.sk-label label.sk-toggleable__label,\n",
              "#sk-container-id-1 div.sk-label label {\n",
              "  /* The background is the default theme color */\n",
              "  color: var(--sklearn-color-text-on-default-background);\n",
              "}\n",
              "\n",
              "/* On hover, darken the color of the background */\n",
              "#sk-container-id-1 div.sk-label:hover label.sk-toggleable__label {\n",
              "  color: var(--sklearn-color-text);\n",
              "  background-color: var(--sklearn-color-unfitted-level-2);\n",
              "}\n",
              "\n",
              "/* Label box, darken color on hover, fitted */\n",
              "#sk-container-id-1 div.sk-label.fitted:hover label.sk-toggleable__label.fitted {\n",
              "  color: var(--sklearn-color-text);\n",
              "  background-color: var(--sklearn-color-fitted-level-2);\n",
              "}\n",
              "\n",
              "/* Estimator label */\n",
              "\n",
              "#sk-container-id-1 div.sk-label label {\n",
              "  font-family: monospace;\n",
              "  font-weight: bold;\n",
              "  display: inline-block;\n",
              "  line-height: 1.2em;\n",
              "}\n",
              "\n",
              "#sk-container-id-1 div.sk-label-container {\n",
              "  text-align: center;\n",
              "}\n",
              "\n",
              "/* Estimator-specific */\n",
              "#sk-container-id-1 div.sk-estimator {\n",
              "  font-family: monospace;\n",
              "  border: 1px dotted var(--sklearn-color-border-box);\n",
              "  border-radius: 0.25em;\n",
              "  box-sizing: border-box;\n",
              "  margin-bottom: 0.5em;\n",
              "  /* unfitted */\n",
              "  background-color: var(--sklearn-color-unfitted-level-0);\n",
              "}\n",
              "\n",
              "#sk-container-id-1 div.sk-estimator.fitted {\n",
              "  /* fitted */\n",
              "  background-color: var(--sklearn-color-fitted-level-0);\n",
              "}\n",
              "\n",
              "/* on hover */\n",
              "#sk-container-id-1 div.sk-estimator:hover {\n",
              "  /* unfitted */\n",
              "  background-color: var(--sklearn-color-unfitted-level-2);\n",
              "}\n",
              "\n",
              "#sk-container-id-1 div.sk-estimator.fitted:hover {\n",
              "  /* fitted */\n",
              "  background-color: var(--sklearn-color-fitted-level-2);\n",
              "}\n",
              "\n",
              "/* Specification for estimator info (e.g. \"i\" and \"?\") */\n",
              "\n",
              "/* Common style for \"i\" and \"?\" */\n",
              "\n",
              ".sk-estimator-doc-link,\n",
              "a:link.sk-estimator-doc-link,\n",
              "a:visited.sk-estimator-doc-link {\n",
              "  float: right;\n",
              "  font-size: smaller;\n",
              "  line-height: 1em;\n",
              "  font-family: monospace;\n",
              "  background-color: var(--sklearn-color-background);\n",
              "  border-radius: 1em;\n",
              "  height: 1em;\n",
              "  width: 1em;\n",
              "  text-decoration: none !important;\n",
              "  margin-left: 0.5em;\n",
              "  text-align: center;\n",
              "  /* unfitted */\n",
              "  border: var(--sklearn-color-unfitted-level-1) 1pt solid;\n",
              "  color: var(--sklearn-color-unfitted-level-1);\n",
              "}\n",
              "\n",
              ".sk-estimator-doc-link.fitted,\n",
              "a:link.sk-estimator-doc-link.fitted,\n",
              "a:visited.sk-estimator-doc-link.fitted {\n",
              "  /* fitted */\n",
              "  border: var(--sklearn-color-fitted-level-1) 1pt solid;\n",
              "  color: var(--sklearn-color-fitted-level-1);\n",
              "}\n",
              "\n",
              "/* On hover */\n",
              "div.sk-estimator:hover .sk-estimator-doc-link:hover,\n",
              ".sk-estimator-doc-link:hover,\n",
              "div.sk-label-container:hover .sk-estimator-doc-link:hover,\n",
              ".sk-estimator-doc-link:hover {\n",
              "  /* unfitted */\n",
              "  background-color: var(--sklearn-color-unfitted-level-3);\n",
              "  color: var(--sklearn-color-background);\n",
              "  text-decoration: none;\n",
              "}\n",
              "\n",
              "div.sk-estimator.fitted:hover .sk-estimator-doc-link.fitted:hover,\n",
              ".sk-estimator-doc-link.fitted:hover,\n",
              "div.sk-label-container:hover .sk-estimator-doc-link.fitted:hover,\n",
              ".sk-estimator-doc-link.fitted:hover {\n",
              "  /* fitted */\n",
              "  background-color: var(--sklearn-color-fitted-level-3);\n",
              "  color: var(--sklearn-color-background);\n",
              "  text-decoration: none;\n",
              "}\n",
              "\n",
              "/* Span, style for the box shown on hovering the info icon */\n",
              ".sk-estimator-doc-link span {\n",
              "  display: none;\n",
              "  z-index: 9999;\n",
              "  position: relative;\n",
              "  font-weight: normal;\n",
              "  right: .2ex;\n",
              "  padding: .5ex;\n",
              "  margin: .5ex;\n",
              "  width: min-content;\n",
              "  min-width: 20ex;\n",
              "  max-width: 50ex;\n",
              "  color: var(--sklearn-color-text);\n",
              "  box-shadow: 2pt 2pt 4pt #999;\n",
              "  /* unfitted */\n",
              "  background: var(--sklearn-color-unfitted-level-0);\n",
              "  border: .5pt solid var(--sklearn-color-unfitted-level-3);\n",
              "}\n",
              "\n",
              ".sk-estimator-doc-link.fitted span {\n",
              "  /* fitted */\n",
              "  background: var(--sklearn-color-fitted-level-0);\n",
              "  border: var(--sklearn-color-fitted-level-3);\n",
              "}\n",
              "\n",
              ".sk-estimator-doc-link:hover span {\n",
              "  display: block;\n",
              "}\n",
              "\n",
              "/* \"?\"-specific style due to the `<a>` HTML tag */\n",
              "\n",
              "#sk-container-id-1 a.estimator_doc_link {\n",
              "  float: right;\n",
              "  font-size: 1rem;\n",
              "  line-height: 1em;\n",
              "  font-family: monospace;\n",
              "  background-color: var(--sklearn-color-background);\n",
              "  border-radius: 1rem;\n",
              "  height: 1rem;\n",
              "  width: 1rem;\n",
              "  text-decoration: none;\n",
              "  /* unfitted */\n",
              "  color: var(--sklearn-color-unfitted-level-1);\n",
              "  border: var(--sklearn-color-unfitted-level-1) 1pt solid;\n",
              "}\n",
              "\n",
              "#sk-container-id-1 a.estimator_doc_link.fitted {\n",
              "  /* fitted */\n",
              "  border: var(--sklearn-color-fitted-level-1) 1pt solid;\n",
              "  color: var(--sklearn-color-fitted-level-1);\n",
              "}\n",
              "\n",
              "/* On hover */\n",
              "#sk-container-id-1 a.estimator_doc_link:hover {\n",
              "  /* unfitted */\n",
              "  background-color: var(--sklearn-color-unfitted-level-3);\n",
              "  color: var(--sklearn-color-background);\n",
              "  text-decoration: none;\n",
              "}\n",
              "\n",
              "#sk-container-id-1 a.estimator_doc_link.fitted:hover {\n",
              "  /* fitted */\n",
              "  background-color: var(--sklearn-color-fitted-level-3);\n",
              "}\n",
              "</style><div id=\"sk-container-id-1\" class=\"sk-top-container\"><div class=\"sk-text-repr-fallback\"><pre>LogisticRegression(max_iter=1000)</pre><b>In a Jupyter environment, please rerun this cell to show the HTML representation or trust the notebook. <br />On GitHub, the HTML representation is unable to render, please try loading this page with nbviewer.org.</b></div><div class=\"sk-container\" hidden><div class=\"sk-item\"><div class=\"sk-estimator fitted sk-toggleable\"><input class=\"sk-toggleable__control sk-hidden--visually\" id=\"sk-estimator-id-1\" type=\"checkbox\" checked><label for=\"sk-estimator-id-1\" class=\"sk-toggleable__label fitted sk-toggleable__label-arrow\"><div><div>LogisticRegression</div></div><div><a class=\"sk-estimator-doc-link fitted\" rel=\"noreferrer\" target=\"_blank\" href=\"https://scikit-learn.org/1.6/modules/generated/sklearn.linear_model.LogisticRegression.html\">?<span>Documentation for LogisticRegression</span></a><span class=\"sk-estimator-doc-link fitted\">i<span>Fitted</span></span></div></label><div class=\"sk-toggleable__content fitted\"><pre>LogisticRegression(max_iter=1000)</pre></div> </div></div></div></div>"
            ]
          },
          "metadata": {},
          "execution_count": 30
        }
      ],
      "source": [
        "# Train the Logistic Regression model\n",
        "model = LogisticRegression(max_iter=1000)\n",
        "model.fit(X_train, y_train)"
      ]
    },
    {
      "cell_type": "markdown",
      "metadata": {
        "id": "FyCDtA0QqikC"
      },
      "source": [
        "### **Exercise 7:** Evaluate your model manually\n",
        "\n",
        "1. Choose a random index of an image.\n",
        "2. Display the image.\n",
        "3. Print the original label.\n",
        "4. Print the predicted label.\n",
        "5. Repeat this process multiple times to identify which pictures are more challenging for the model."
      ]
    },
    {
      "cell_type": "code",
      "source": [
        "import random\n",
        "import matplotlib.pyplot as plt\n",
        "\n",
        "# Randomly pick  image\n",
        "index = random.randint(0, len(X_test) - 1)\n",
        "\n",
        "plt.imshow(X_test[index].reshape(64, 64, 3), cmap='gray')\n",
        "plt.show()\n",
        "\n",
        "print(f\"Original Label: {y_test[index]}\")\n",
        "print(f\"Predicted Label: {model.predict([X_test[index]])[0]}\")\n",
        "\n"
      ],
      "metadata": {
        "id": "gegCUeCRCjBY",
        "outputId": "4053837c-8f7e-44f4-c6c5-d820f1b8f8f5",
        "colab": {
          "base_uri": "https://localhost:8080/",
          "height": 468
        }
      },
      "execution_count": 39,
      "outputs": [
        {
          "output_type": "display_data",
          "data": {
            "text/plain": [
              "<Figure size 640x480 with 1 Axes>"
            ],
            "image/png": "[encoded data removed]"
          },
          "metadata": {}
        },
        {
          "output_type": "stream",
          "name": "stdout",
          "text": [
            "Original Label: 1\n",
            "Predicted Label: 1\n"
          ]
        }
      ]
    },
    {
      "cell_type": "markdown",
      "metadata": {
        "id": "cn8tvYOyqR5I"
      },
      "source": [
        "### **Exercise 8:** Report the overall accuracy of your classifier"
      ]
    },
    {
      "cell_type": "code",
      "execution_count": 40,
      "metadata": {
        "id": "xo10iTsZq66K",
        "outputId": "322db32f-11d8-450c-c35c-4418847833a7",
        "colab": {
          "base_uri": "https://localhost:8080/"
        }
      },
      "outputs": [
        {
          "output_type": "stream",
          "name": "stdout",
          "text": [
            "Overall Accuracy: 0.66\n"
          ]
        }
      ],
      "source": [
        "y_pred = model.predict(X_test)\n",
        "accuracy = accuracy_score(y_test, y_pred)\n",
        "\n",
        "print(f\"Overall Accuracy: {accuracy:.2f}\")\n"
      ]
    },
    {
      "cell_type": "markdown",
      "metadata": {
        "id": "MODwrzh8rCti"
      },
      "source": [
        "## MNIST dataset (Exercise 9-12) - Optional, if you have extra time"
      ]
    },
    {
      "cell_type": "code",
      "execution_count": 44,
      "metadata": {
        "id": "7utkStuDrs96"
      },
      "outputs": [],
      "source": [
        "#import mnist dataset\n",
        "from keras.datasets import mnist\n",
        "(x_train, y_train), (x_test, y_test) = mnist.load_data()"
      ]
    },
    {
      "cell_type": "code",
      "execution_count": 41,
      "metadata": {
        "colab": {
          "base_uri": "https://localhost:8080/"
        },
        "id": "EcCC08Sexfx0",
        "outputId": "8322e409-f148-4e89-8d1e-6075d5559bd4"
      },
      "outputs": [
        {
          "output_type": "execute_result",
          "data": {
            "text/plain": [
              "(60000, 28, 28)"
            ]
          },
          "metadata": {},
          "execution_count": 41
        }
      ],
      "source": [
        "x_train.shape"
      ]
    },
    {
      "cell_type": "code",
      "execution_count": 45,
      "metadata": {
        "colab": {
          "base_uri": "https://localhost:8080/",
          "height": 484
        },
        "id": "KMQ1_aSfxkZI",
        "outputId": "6d190d66-0062-462c-9981-da50cb6197eb"
      },
      "outputs": [
        {
          "output_type": "stream",
          "name": "stdout",
          "text": [
            "Label:  9\n",
            "Image Shape:  (28, 28)\n"
          ]
        },
        {
          "output_type": "execute_result",
          "data": {
            "text/plain": [
              "<matplotlib.colorbar.Colorbar at 0x7eaea1a15c10>"
            ]
          },
          "metadata": {},
          "execution_count": 45
        },
        {
          "output_type": "display_data",
          "data": {
            "text/plain": [
              "<Figure size 640x480 with 2 Axes>"
            ],
            "image/png": "[encoded data removed]"
          },
          "metadata": {}
        }
      ],
      "source": [
        "#Note: Run this cell multiple times\n",
        "index = np.random.randint(0, x_train.shape[0])\n",
        "print(\"Label: \", y_train[index])\n",
        "print(\"Image Shape: \", x_train[index].shape)\n",
        "plt.imshow(x_train[index], cmap='gray')\n",
        "plt.colorbar()"
      ]
    },
    {
      "cell_type": "markdown",
      "metadata": {
        "id": "FbfT3xU5Qz73"
      },
      "source": [
        "### **Excercise 9:** What is the difference between a black-and-white image and a color image in terms of numerical representation?\n",
        "\n",
        "### Hint: check the number of channels in the two types of images."
      ]
    },
    {
      "cell_type": "markdown",
      "metadata": {
        "id": "vPdYZ_xmRPgF"
      },
      "source": [
        "your answer here:   Difference between them are that Black-and-white image represented by a single channel (grayscale), where each pixel has one intensity value (0-255), and color image Represented by three channels (RGB), where each pixel is a combination of Red, Green, and Blue intensity values.\n"
      ]
    },
    {
      "cell_type": "markdown",
      "metadata": {
        "id": "yLGuNDA_OmlI"
      },
      "source": [
        "### **Exercise 10:** Select one data sample and flatten it. What is the size of the flattened image and why?"
      ]
    },
    {
      "cell_type": "code",
      "execution_count": 46,
      "metadata": {
        "id": "-3Qn0NusO_O1",
        "outputId": "de539890-9aca-44fe-95b3-f6068a71149b",
        "colab": {
          "base_uri": "https://localhost:8080/"
        }
      },
      "outputs": [
        {
          "output_type": "stream",
          "name": "stdout",
          "text": [
            "Flattened size: 12288\n"
          ]
        }
      ],
      "source": [
        "sample_image = X_train[0]\n",
        "flattened_image = sample_image.flatten()\n",
        "print(f\"Flattened size: {flattened_image.shape[0]}\")\n"
      ]
    },
    {
      "cell_type": "markdown",
      "metadata": {
        "id": "q-5Chwg8PXEt"
      },
      "source": [
        "### **Excercise 11:** Flatten the images in Train and Test Datasets so that each image is a 1D array"
      ]
    },
    {
      "cell_type": "code",
      "execution_count": 50,
      "metadata": {
        "id": "dZqqdh6IOvHz",
        "outputId": "57d6b380-42fb-4308-a1b7-68dd27205a52",
        "colab": {
          "base_uri": "https://localhost:8080/"
        }
      },
      "outputs": [
        {
          "output_type": "stream",
          "name": "stdout",
          "text": [
            "X_train_flattened shape: (209, 12288)\n",
            "y_train shape: (60000,)\n"
          ]
        }
      ],
      "source": [
        "X_train_flattened = X_train.reshape(X_train.shape[0], -1)\n",
        "X_test_flattened = X_test.reshape(X_test.shape[0], -1)\n",
        "\n",
        "print(f\"X_train_flattened shape: {X_train_flattened.shape}\")\n",
        "print(f\"y_train shape: {y_train.shape}\")\n",
        "\n"
      ]
    },
    {
      "cell_type": "markdown",
      "metadata": {
        "id": "jXVmsGNLsGyS"
      },
      "source": [
        "### **Excercise 12:** Implement Logistic Regression on MNIST dataset using scikit-learn. What is the accuracy of your model?"
      ]
    }
  ],
  "metadata": {
    "colab": {
      "provenance": [],
      "gpuType": "T4"
    },
    "kernelspec": {
      "display_name": "Python 3",
      "name": "python3"
    },
    "language_info": {
      "name": "python",
      "version": "3.13.1"
    },
    "accelerator": "GPU"
  },
  "nbformat": 4,
  "nbformat_minor": 0
}